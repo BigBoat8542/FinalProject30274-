{
  "nbformat": 4,
  "nbformat_minor": 0,
  "metadata": {
    "colab": {
      "name": "Final Project",
      "provenance": [],
      "authorship_tag": "ABX9TyP/xnS5+/Jr4SMYneJwDm3M",
      "include_colab_link": true
    },
    "kernelspec": {
      "name": "python3",
      "display_name": "Python 3"
    }
  },
  "cells": [
    {
      "cell_type": "markdown",
      "metadata": {
        "id": "view-in-github",
        "colab_type": "text"
      },
      "source": [
        "<a href=\"https://colab.research.google.com/github/BigBoat8542/FinalProject30274-/blob/main/Final_Project.ipynb\" target=\"_parent\"><img src=\"https://colab.research.google.com/assets/colab-badge.svg\" alt=\"Open In Colab\"/></a>"
      ]
    },
    {
      "cell_type": "code",
      "metadata": {
        "id": "EP9MfT2fuk6g"
      },
      "source": [
        "#Luke Watson-Sharer\n",
        "# Python Projects and scripts\n",
        "# Script 1: Dictionary practice\n",
        "# Script 2: Census Data with Pandas\n",
        "\n"
      ],
      "execution_count": null,
      "outputs": []
    },
    {
      "cell_type": "markdown",
      "metadata": {
        "id": "HX5sw8t3ji5I"
      },
      "source": [
        "During the Python programming module, we have practiced manipulating data structures and types to gain an understanding into the fundamentals of python programming. Beginning from creating variables and functions, all the way to scraping the web and developing methodologies for working with lists, tuples, dictionaries and more. therefore, with both scripts, the first being a walk through and the second being a form of data manipulation to show some of the work developed while in this course that can be used in real scenarios when working in python. I decided that dictionaries and working with Census data in Pandas, would enable me to focus on some United States Geography but also show a couple of cool exercises anyone could do in their free time. Please feel free to confront these scripts with questions. \n",
        "\n",
        "The first script, focuses entirely with messing, breaking and manipulating a dictionary, and then evolving the dictionary throughout the process. The dicitonary is based on a list on Wikipedia, guessing the highest population cities in the United States. Due to the nature of the problem, I decided to make sure the dictionary would start with out of order key values, which will need to be replaced to keep the dictionary organized by the most populous cities. After changing and updating the values of the keys for the ten most populous cities, you're then tasked with testing to make sure that other cities or key values would be \"accurate\". If you for example put in Buffalo, it should not return that it's a part of the dictionary. After this exercise, the coder moves onto merging dictionaries together. By merging dictionaries and forcing the user to extend the dictionary to 15 cities rather than the first 10, it provides a new challenge of making sure everything properly funcitons and connects. By using a for loop, you can create this merge without a funciton, and then just having a larger overall dictionary. To keep it interesting, I noticed a large number of cities in Texas included in the top 15 most populous. So I added a way so that a user could remove the values from the dictionary pertaining to Texas. If this was organized by State and City rather than value and city, you could've just removed the Values of a certain state. However, I force the user to learn applying a few functions and using both the list and dictionary data types to update the dictionary. After Texas values were removed, a user should then test that the dicitonary is working by traversing the dictionary and ensuring that the values remain consistent. \n",
        "\n",
        "My second script despite it being short, was an attempt to make a process a bit shorter with less code. I went on medium to discover how to work with imported files locally in colab, which I could not do beforehand. I also used the pandas library to work with the dataframe, rather than the library used by the github page. I wanted to make this a short process, one where the user could clearly understand the process without having to filter through as maany components. This code, despite it being only a few lines, cuts out around 20 lines of code, and with small manipulation an end user could have this include census tract and county data without any added lines. The biggest challenge I had was pulling the data into colab, because I was not aware of how to do it from a local file, and the second was trying to condense it into fewer lines, where I looked on medium, stackoverflow and other resources for function calls in the pandas library that can condense the data in this matter. This felt very similar to working with dataframes in R, which made it more familiar for me. I am happy I have a functioning product that aligns in theme with the first script I had, but I honestly expected to need about 10 more lines than I used so I'm really proud of that.\n",
        "\n",
        "\n"
      ]
    },
    {
      "cell_type": "code",
      "metadata": {
        "id": "L-LcRJuDzcQs",
        "colab": {
          "base_uri": "https://localhost:8080/"
        },
        "outputId": "7752c621-e0b9-4ed9-b5ad-ea474796f1a2"
      },
      "source": [
        "# Script 1\n",
        "# The intention of this script is to provide an exercise using for loops and manipulationg dictionaries in Python. Here we are going to practice 3 key things. 1. Replacing Key Values In a dictionary 2. Merging Dictionaries 3. Removing multiple items from a dictionary and putting them into separate dictonaries\n",
        "# This will help you gain practice working with dicitonaries and manipulating dictionaries in python\n",
        "\n",
        "\n",
        "# Please Begin Creating a dictionary of the ten most populous cities in the United States as of 2021\n",
        "# You are given a list of the top ten most populous cities out of order, start by reordering them into correct order and then testing if a given city falls within the top ten\n",
        "topten_city_dict = {'New York City' : 6, 'Los Angeles' : 2, 'Chicago' : 4, 'Houston' : 3, 'Phoneix' : 5, 'Philadelphia' : 7, 'San Antonio' : 1, 'San Diego' : 9, 'Dallas' : 8, 'San Jose' : 10, }\n",
        "# Here we can see that these dictionaries do not properly list which cities are the most populous by key value. The text of the City is in order, but the key values are not. Let's fix that\n",
        "topten_city_dict.update({'New York City': 1})\n",
        "topten_city_dict.update({'Chicago': 3})\n",
        "topten_city_dict.update({'Houston': 4})\n",
        "topten_city_dict.update({'Philadelphia': 6})\n",
        "topten_city_dict.update({'San Antonio': 7})\n",
        "topten_city_dict.update({'San Diego': 8})\n",
        "topten_city_dict.update({'Dallas': 9})\n",
        "\n",
        "# Now that these keys are lined up with their proper city, lets test to make sure the list is functioning\n",
        "\n",
        "# Begin testing if any given city falls within \"top ten\" by testing key values in the function, create a function testing what cities.\n",
        "def top_ten_city(key):\n",
        "    if key in topten_city_dict:\n",
        "      print(\"This is a top ten most populous city in the United States\")\n",
        "    else :\n",
        "      print(\"This is not a top ten most populous city in the United States\")\n",
        "\n",
        "#top_ten_city('Seattle') Test line of code\n",
        "\n",
        "# Now that we can see that these cities in the dictionary are top ten cities in terms of population let's try extending the list top the top 15 cities by using a for loop\n",
        "next5_dict = { 'Austin' : 11, 'Jacksonville' : 12, 'Fort Worth' : 13, 'Columbus' : 14, 'Charlotte' : 15, } # create second dictionary\n",
        "for k,v in next5_dict.items(): # for loop merging the two dictionaries\n",
        "    topten_city_dict[k]=v\n",
        "top15cities_dict = topten_city_dict\n",
        "\n",
        "# Now we have a dictionary containing the 15 most populous cities in the US, let's spice it up\n",
        "\n",
        "#BREAKING NEWS, Texas secedes from the United States, Now remove all the cities from Texas, Governor Abbott announces\n",
        "# Now delete every item in the dictionary that contains a city in texas. Begin by creating a list of cities in Texas and removing them in a for loop\n",
        "\n",
        "texasKeys = ('Houston', 'San Antonio', 'Dallas', 'Austin', 'Fort Worth')\n",
        "for val in texasKeys:\n",
        "  top15cities_dict.pop(val)\n",
        "topten_city_wo_texas = top15cities_dict\n",
        "\n",
        "#Make sure this is working creating a function to test if the city is in inside of this new Dictionary\n",
        "def top_ten_city_updated(key):\n",
        "    if key in topten_city_wo_texas:\n",
        "      print(\"This is a top ten most populous city in the United States\")\n",
        "    else :\n",
        "      print(\"This is not a top ten most populous city in the United States\")\n",
        "top_ten_city_updated('Chicago')\n"
      ],
      "execution_count": null,
      "outputs": [
        {
          "output_type": "stream",
          "text": [
            "This is not a top ten most populous city in the United States\n"
          ],
          "name": "stdout"
        }
      ]
    },
    {
      "cell_type": "code",
      "metadata": {
        "id": "0TQ8C0fDzcbc",
        "colab": {
          "resources": {
            "http://localhost:8080/nbextensions/google.colab/files.js": {
              "data": "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",
              "ok": true,
              "headers": [
                [
                  "content-type",
                  "application/javascript"
                ]
              ],
              "status": 200,
              "status_text": ""
            }
          },
          "base_uri": "https://localhost:8080/",
          "height": 89
        },
        "outputId": "8aaadc9b-e7f1-4b08-9d51-78a02c8fd556"
      },
      "source": [
        "#Script 2\n",
        "#This script will take a csv file of census data and summarize population in a particular state by county. \n",
        "# Starting with a population dataset with census tracts, population data and state date, summarize the population of each state\n",
        "\n",
        "import pandas as pd #using pandas library to create the data structure \n",
        "import io\n",
        "from google.colab import files\n",
        "uploaded = files.upload() # uploads the file into colab from local\n",
        "df = pd.read_csv(io.BytesIO(uploaded['censuspopdata.csv'])) #read it in as a df\n",
        "statedata = df.groupby(\"State\").agg({\"POP2010\": \"sum\"}) #Groups by date, aggregates the population as a total of sum for each state\n",
        "print(\"Population totals of each state in 2010\" + statedata)\n",
        "# Dataset acquired on https://github.com/iliyahoo/Automate-The-Boring-Stuff-With-Python/blob/master/automate_online-materials/censuspopdata.xlsx\n",
        "# Replaced their method with something a bit shorter, edit the creation of state data to include census tract and county data.\n"
      ],
      "execution_count": null,
      "outputs": [
        {
          "output_type": "display_data",
          "data": {
            "text/html": [
              "\n",
              "     <input type=\"file\" id=\"files-276ce1f6-3a00-4846-a72b-fbb22c5627ec\" name=\"files[]\" multiple disabled\n",
              "        style=\"border:none\" />\n",
              "     <output id=\"result-276ce1f6-3a00-4846-a72b-fbb22c5627ec\">\n",
              "      Upload widget is only available when the cell has been executed in the\n",
              "      current browser session. Please rerun this cell to enable.\n",
              "      </output>\n",
              "      <script src=\"/nbextensions/google.colab/files.js\"></script> "
            ],
            "text/plain": [
              "<IPython.core.display.HTML object>"
            ]
          },
          "metadata": {
            "tags": []
          }
        },
        {
          "output_type": "stream",
          "text": [
            "Saving censuspopdata.csv to censuspopdata (10).csv\n",
            "None\n"
          ],
          "name": "stdout"
        }
      ]
    }
  ]
}